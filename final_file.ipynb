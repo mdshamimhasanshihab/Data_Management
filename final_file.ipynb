{
 "cells": [
  {
   "cell_type": "code",
   "execution_count": 5,
   "metadata": {},
   "outputs": [],
   "source": [
    "import pandas as pd\n",
    "import pyarrow as pa\n",
    "import pyarrow.parquet as pq\n",
    "\n",
    "# Define the data as a Pandas DataFrame\n",
    "data = {\n",
    "    'id': [1, 2],\n",
    "\n",
    "    'product_des': [\n",
    "        [\n",
    "        {'unit': 'origin', 'value': 32, 'dimentionality': 1},\n",
    "        {'unit': 'inches', 'value': 452, 'dimentionality': 2}\n",
    "    \n",
    "        \n",
    "    ],\n",
    "    [\n",
    "        {'unit': 'ounches', 'value': 32, 'dimentionality': 1},\n",
    "        {'unit': 'inches', 'value': 452, 'dimentionality': 2} \n",
    "    ]\n",
    "    ]\n",
    "}\n",
    "df = pd.DataFrame(data)\n",
    "\n",
    "# Define the schema using PyArrow\n",
    "schema = pa.schema([\n",
    "    pa.field('id', pa.int64()),\n",
    "    pa.field('product_des', pa.list_(pa.struct([\n",
    "        pa.field('unit', pa.string()),\n",
    "        pa.field('value', pa.int64()),\n",
    "        pa.field('dimentionality', pa.int64())\n",
    "        ])))\n",
    "\n",
    "  \n",
    "])\n",
    "\n",
    "# Convert the Pandas DataFrame to PyArrow Table\n",
    "table = pa.Table.from_pandas(df, schema=schema)\n",
    "\n",
    "# Write the PyArrow Table to Parquet file\n",
    "# with pq.ParquetWriter(r'C:\\Users\\User\\PycharmProjects\\pythonProject3\\Planet_X\\Phase_1', schema) as writer:\n",
    "#     writer.write_table(table)\n"
   ]
  },
  {
   "cell_type": "code",
   "execution_count": 12,
   "metadata": {},
   "outputs": [],
   "source": [
    "pq.write_table(table, r\"C:\\Users\\User\\PycharmProjects\\pythonProject3\\Planet_X\\Phase_1\\exam.parquet\")"
   ]
  },
  {
   "cell_type": "code",
   "execution_count": 13,
   "metadata": {},
   "outputs": [],
   "source": [
    "table = pq.read_table('exam.parquet')\n",
    "\n",
    "# Convert the table to a Pandas DataFrame\n",
    "df = table.to_pandas()"
   ]
  },
  {
   "cell_type": "code",
   "execution_count": 14,
   "metadata": {},
   "outputs": [
    {
     "name": "stdout",
     "output_type": "stream",
     "text": [
      "   id                                        product_des\n",
      "0   1  [{'unit': 'origin', 'value': 32, 'dimentionali...\n",
      "1   2  [{'unit': 'ounches', 'value': 32, 'dimentional...\n"
     ]
    }
   ],
   "source": [
    "print(df)"
   ]
  },
  {
   "cell_type": "code",
   "execution_count": 22,
   "metadata": {},
   "outputs": [
    {
     "ename": "TypeError",
     "evalue": "'pyarrow.lib.StructType' object is not callable",
     "output_type": "error",
     "traceback": [
      "\u001b[1;31m---------------------------------------------------------------------------\u001b[0m",
      "\u001b[1;31mTypeError\u001b[0m                                 Traceback (most recent call last)",
      "Cell \u001b[1;32mIn[22], line 22\u001b[0m\n\u001b[0;32m     16\u001b[0m     \u001b[39mfor\u001b[39;00m desc \u001b[39min\u001b[39;00m product_des:\n\u001b[0;32m     17\u001b[0m         struct_type \u001b[39m=\u001b[39m pa\u001b[39m.\u001b[39mstruct([\n\u001b[0;32m     18\u001b[0m             pa\u001b[39m.\u001b[39mfield(\u001b[39m'\u001b[39m\u001b[39munit\u001b[39m\u001b[39m'\u001b[39m, pa\u001b[39m.\u001b[39mstring()),\n\u001b[0;32m     19\u001b[0m             pa\u001b[39m.\u001b[39mfield(\u001b[39m'\u001b[39m\u001b[39mvalue\u001b[39m\u001b[39m'\u001b[39m, pa\u001b[39m.\u001b[39mint64()),\n\u001b[0;32m     20\u001b[0m             pa\u001b[39m.\u001b[39mfield(\u001b[39m'\u001b[39m\u001b[39mdimentionality\u001b[39m\u001b[39m'\u001b[39m, pa\u001b[39m.\u001b[39mint64())\n\u001b[0;32m     21\u001b[0m         ])\n\u001b[1;32m---> 22\u001b[0m         struct_list\u001b[39m.\u001b[39mappend(struct_type(\n\u001b[0;32m     23\u001b[0m             desc[\u001b[39m'\u001b[39;49m\u001b[39munit\u001b[39;49m\u001b[39m'\u001b[39;49m],\n\u001b[0;32m     24\u001b[0m             desc[\u001b[39m'\u001b[39;49m\u001b[39mvalue\u001b[39;49m\u001b[39m'\u001b[39;49m],\n\u001b[0;32m     25\u001b[0m             desc[\u001b[39m'\u001b[39;49m\u001b[39mdimentionality\u001b[39;49m\u001b[39m'\u001b[39;49m]\n\u001b[0;32m     26\u001b[0m         ))\n\u001b[0;32m     27\u001b[0m     structs\u001b[39m.\u001b[39mappend(pa\u001b[39m.\u001b[39marray(struct_list))\n\u001b[0;32m     29\u001b[0m \u001b[39m# Create the PyArrow schema and table\u001b[39;00m\n",
      "\u001b[1;31mTypeError\u001b[0m: 'pyarrow.lib.StructType' object is not callable"
     ]
    }
   ],
   "source": [
    "import pandas as pd\n",
    "import pyarrow as pa\n",
    "\n",
    "# Define some example data\n",
    "data = [\n",
    "    {'id': 1, 'product_des': [{'unit': 'origin', 'value': 32, 'dimentionality': 1}, {'unit': 'inches', 'value': 452, 'dimentionality': 2}]},\n",
    "    {'id': 2, 'product_des': [{'unit': 'ounces', 'value': 32, 'dimentionality': 1}, {'unit': 'inches', 'value': 452, 'dimentionality': 2}, {'unit': 'cm', 'value': 10, 'dimentionality': 1}]},\n",
    "    {'id': 3, 'product_des': [{'unit': 'meters', 'value': 2, 'dimentionality': 1}, {'unit': 'pounds', 'value': 5, 'dimentionality': 1}, {'unit': 'inches', 'value': 100, 'dimentionality': 2}, {'unit': 'cm', 'value': 20, 'dimentionality': 1}]},\n",
    "]\n",
    "\n",
    "# Create a list of structs for each row\n",
    "structs = []\n",
    "for row in data:\n",
    "    product_des = row['product_des']\n",
    "    struct_list = []\n",
    "    for desc in product_des:\n",
    "        struct_type = pa.struct([\n",
    "            pa.field('unit', pa.string()),\n",
    "            pa.field('value', pa.int64()),\n",
    "            pa.field('dimentionality', pa.int64())\n",
    "        ])\n",
    "        struct_list.append(struct_type(\n",
    "            desc['unit'],\n",
    "            desc['value'],\n",
    "            desc['dimentionality']\n",
    "        ))\n",
    "    structs.append(pa.array(struct_list))\n",
    "\n",
    "# Create the PyArrow schema and table\n",
    "schema = pa.schema([\n",
    "    pa.field('id', pa.int64()),\n",
    "    pa.field('product_des', pa.list_(pa.struct([\n",
    "        pa.field('unit', pa.string()),\n",
    "        pa.field('value', pa.int64()),\n",
    "        pa.field('dimentionality', pa.int64())\n",
    "    ])))\n",
    "])\n",
    "table = pa.Table.from_arrays([\n",
    "    pa.array([row['id'] for row in data]),\n",
    "    pa.list_(structs)\n",
    "], schema=schema)\n",
    "\n",
    "# Write the table to a Parquet file\n",
    "pq.write_table(table, 'product_descriptions.parquet')\n",
    "\n",
    "# Read the table back from the Parquet file\n",
    "table = pq.read_table('product_descriptions.parquet')\n",
    "\n",
    "# Convert the PyArrow table to a Pandas DataFrame\n",
    "df = table.to_pandas()\n",
    "print(df)\n"
   ]
  },
  {
   "cell_type": "code",
   "execution_count": 20,
   "metadata": {},
   "outputs": [],
   "source": [
    "df = pd.read_parquet('product_attrs.parquet.gzip')"
   ]
  },
  {
   "cell_type": "code",
   "execution_count": 33,
   "metadata": {},
   "outputs": [
    {
     "name": "stdout",
     "output_type": "stream",
     "text": [
      "index: 0\n",
      "index: 1\n",
      "index: 2\n",
      "index: 3\n",
      "index: 4\n",
      "index: 5\n",
      "index: 6\n",
      "index: 7\n",
      "index: 8\n",
      "index: 9\n",
      "{'id': ['078c02969df534dd252ead140ff1e2e2', '5daf53900ecea17db9d855cde97819de', '2f0ee547ae16a9e3ca19e7ba1d1f14e9', 'c74918fa58c77ef27a96e3badd8e7566', '6c234fb210cc667034e1161cba15d8c5', '759d9dd6bc1ac62995bd69db5b626bfd', 'd75a82375ca598bd148cd5061006054c', 'f3d5db1b08f5fb394ff73834238e9e69', 'acc54e85b1677734e5085a34e4b4b0c7', '845b7af056e19a8eb729d907e43a9b42'], 'product_des': [[{'unit': 'origin', 'value': 5, 'dimentionality': 1}], [{'unit': 'inches', 'value': 140.0, 'dimentionality': 3}, {'unit': 'origin', 'value': 5, 'dimentionality': 1}], [{'unit': 'origin', 'value': 5, 'dimentionality': 1}, {'unit': 'quantity', 'value': 6, 'dimentionality': 1}], [{'unit': 'inches', 'value': 140.0, 'dimentionality': 3}, {'unit': 'ounces', 'value': 7.2, 'dimentionality': 1}, {'unit': 'origin', 'value': 5, 'dimentionality': 1}], [{'unit': 'origin', 'value': 5, 'dimentionality': 1}, {'unit': 'quantity', 'value': 6, 'dimentionality': 1}], [{'unit': 'inches', 'value': 32.0, 'dimentionality': 3}, {'unit': 'origin', 'value': 5, 'dimentionality': 1}], [{'unit': 'inches', 'value': 900.0, 'dimentionality': 3}, {'unit': 'pounds', 'value': 4.0, 'dimentionality': 1}, {'unit': 'origin', 'value': 5, 'dimentionality': 1}], [{'unit': 'inches', 'value': 68.58547200000001, 'dimentionality': 3}, {'unit': 'origin', 'value': 5, 'dimentionality': 1}], [{'unit': 'lb', 'value': 7.7, 'dimentionality': 1}, {'unit': 'origin', 'value': 5, 'dimentionality': 1}], [{'unit': 'inches', 'value': 251.32952999999998, 'dimentionality': 3}, {'unit': 'pounds', 'value': 1.38, 'dimentionality': 1}, {'unit': 'origin', 'value': 5, 'dimentionality': 1}, {'unit': 'quantity', 'value': 6, 'dimentionality': 1}]]}\n"
     ]
    }
   ],
   "source": [
    "# import os\n",
    "from country_call import find_country\n",
    "import pandas as pd\n",
    "import re\n",
    "from material_selection import find_materials\n",
    "# df = pd.read_parquet('product_attrs.parquet.gzip')\n",
    "df1 = pd.DataFrame(columns=['Product_id', 'Origin', 'Material','inches','inches_dimension','Pounds','Ounces','Lb','Quantity'])\n",
    "data=[]\n",
    "id = []\n",
    "product_des=[]\n",
    "for index, row in df.head(10).iterrows():\n",
    "    print(f\"index: {index}\")\n",
    "    dimention_1=\"\"\n",
    "    dimention_2=\"\"\n",
    "    dimention_3=\"\"\n",
    "    dimention_4=\"\"\n",
    "    dimention_5=\"\"\n",
    "    inches=\"\"\n",
    "    pounds=\"\"\n",
    "    ounces=\"\"\n",
    "    lb=\"\"\n",
    "    product_id=\"\"\n",
    "    country=\"\"\n",
    "    material=[]\n",
    "    quantity=\"\"\n",
    "    data=[]\n",
    "    \n",
    "    # Finding Dimention 1\n",
    "    product_id=row[1]\n",
    "    id.append(product_id)\n",
    "    if row[2]!=None:\n",
    "        dimention_unit=row[2].split(\" \")[-1]\n",
    "        if dimention_unit==\"inches\":\n",
    "            numbers = re.findall(r'\\d+\\.\\d+|\\d+', row[2])\n",
    "            dimention_1=(len(numbers))\n",
    "            inches = 1\n",
    "            for num in numbers:\n",
    "                inches *= float(num)\n",
    "            diction={'unit':'inches','value':float(inches),'dimentionality':dimention_1}\n",
    "            data.append(diction)    \n",
    "                \n",
    "     # Finding Dimention 2               \n",
    "    if row[3]!=None:\n",
    "        dimention_unit=row[3].split(\" \")[-1]\n",
    "        dimention_unit=dimention_unit.lower()\n",
    "        if dimention_unit==\"pounds\":\n",
    "            numbers = re.findall(r'\\d+\\.\\d+|\\d+', row[3])\n",
    "            dimention_2=1\n",
    "            pounds=numbers[0]\n",
    "            diction={'unit':'pounds','value':float(pounds),'dimentionality':1}\n",
    "            data.append(diction)\n",
    "            \n",
    "            \n",
    "    # Finding Dimention 3            \n",
    "\n",
    "    if row[3]!=None:\n",
    "        dimention_unit=row[3].split(\" \")[-1]\n",
    "        dimention_unit=dimention_unit.lower()\n",
    "        if dimention_unit==\"ounces\":\n",
    "            numbers = re.findall(r'\\d+\\.\\d+|\\d+', row[3])\n",
    "            dimention_3=1\n",
    "            ounces=numbers[0]\n",
    "            diction={'unit':'ounces','value':float(ounces),'dimentionality':1}\n",
    "            data.append(diction)\n",
    "\n",
    "            \n",
    "    # Finding Dimention 4\n",
    "    if row[2]!=None:\n",
    "        dimention_unit=row[2].split(\"l\")[-1]\n",
    "        dimention_unit=dimention_unit.lower()\n",
    "        if dimention_unit==\"b\":\n",
    "            numbers = re.findall(r'\\d+\\.\\d+|\\d+', row[2])\n",
    "            dimention_4=1\n",
    "            lb=numbers[0]\n",
    "            diction={'unit':'lb','value':float(lb),'dimentionality':1}\n",
    "            data.append(diction)\n",
    "\n",
    "                \n",
    "    if row[2]!=None:\n",
    "        dimention_unit=row[2].split('\"')[-1]\n",
    "        dimention_unit=dimention_unit.lower()\n",
    "        if dimention_unit==\"h\" or dimention_unit==\"w\" or dimention_unit==\"l\" or dimention_unit==\"d\":\n",
    "            numbers = re.findall(r'\\d+\\.\\d+|\\d+', row[2])\n",
    "            dimention_1=(len(numbers))\n",
    "            inches = 1\n",
    "            for num in numbers:\n",
    "                inches *= float(num)\n",
    "            # print(inches)\n",
    "            # print(dimention_5)\n",
    "            diction={'unit':'inches','value':float(inches),'dimentionality':dimention_1}\n",
    "            data.append(diction)\n",
    "                \n",
    "                \n",
    "                \n",
    "            \n",
    "    title=f\"Index: {index}, Row data: {row[4]}\"\n",
    "    descrip=f\"Index: {index}, Row data: {row[5]}\"\n",
    "    country=find_country(title)\n",
    "    if country == None:\n",
    "        country = find_country(descrip)\n",
    "        diction={'unit':'origin','value':5,'dimentionality':1}\n",
    "        data.append(diction)\n",
    "    # print(country)\n",
    "    material=find_materials(title)\n",
    "    if material == None:\n",
    "        material = find_materials(descrip)\n",
    "        diction={'unit':'materials','value':8,'dimentionality':1}\n",
    "        data.append(diction)   \n",
    "    \n",
    "    # Use regular expressions to find the quantity information\n",
    "    text=f\"{title} {descrip}\"\n",
    "    match = re.search(r\"(pack of|pk|pcs|pieces|set|qty|piece|set of|piece of)\\s?(\\d+)\", text, flags=re.IGNORECASE)\n",
    "    if match==None:\n",
    "        match = re.search(r\"(\\d+)(\\s?|\\s*)(pack|pk|pcs|pieces|set|packs|sets|piece|Pair Pack|Pair Packs|Count|Counts)\", text, flags=re.IGNORECASE)\n",
    "    if match==None:\n",
    "        match = re.search(r\"numeric_(\\d+)\", text, flags=re.IGNORECASE)\n",
    "    if match==None:\n",
    "        match = re.search(r\"(\\d+)\\s*-\\s*(pk|pcs|pieces|set|piece|pack|packs|Pair Pack|Pair Packs|Count|Counts)\", text, flags=re.IGNORECASE)\n",
    "\n",
    "    if match:\n",
    "        quantity = match.group()\n",
    "        diction={'unit':'quantity','value':6,'dimentionality':1}\n",
    "        data.append(diction)\n",
    "    product_des.append(data)\n",
    "main_data={\n",
    "    'id':id,\n",
    "    'product_des':product_des    \n",
    "}\n",
    "        # print(\"Quantity:\", quantity)\n",
    "    # else:\n",
    "        # print(\"Quantity not found.\")\n",
    "\n",
    "    # data = {'Product_id':product_id, 'Origin':country, 'Material':str(material),'inches':inches,'inches_dimension':dimention_1,'Pounds':pounds,'Ounces':ounces,'Lb':lb,'Quantity':quantity}\n",
    "    # df1 = df1.append(data, ignore_index=True)\n",
    "    \n",
    "# Create a list of structs for each row\n",
    "print(main_data)\n",
    "\n",
    "\n"
   ]
  },
  {
   "cell_type": "code",
   "execution_count": 34,
   "metadata": {},
   "outputs": [],
   "source": [
    "df1 = pd.DataFrame(main_data)\n",
    "\n",
    "# Define the schema using PyArrow\n",
    "\n"
   ]
  },
  {
   "cell_type": "code",
   "execution_count": 35,
   "metadata": {},
   "outputs": [],
   "source": [
    "schema = pa.schema([\n",
    "    pa.field('id', pa.string()),\n",
    "    pa.field('product_des', pa.list_(pa.struct([\n",
    "        pa.field('unit', pa.string()),\n",
    "        pa.field('value', pa.float64()),\n",
    "        pa.field('dimentionality', pa.int64())\n",
    "        ])))\n",
    "\n",
    "  \n",
    "])\n",
    "\n",
    "# Convert the Pandas DataFrame to PyArrow Table\n",
    "table = pa.Table.from_pandas(df1, schema=schema)"
   ]
  },
  {
   "cell_type": "code",
   "execution_count": 38,
   "metadata": {},
   "outputs": [
    {
     "data": {
      "text/plain": [
       "pyarrow.Table\n",
       "id: string\n",
       "product_des: list<item: struct<unit: string, value: double, dimentionality: int64>>\n",
       "  child 0, item: struct<unit: string, value: double, dimentionality: int64>\n",
       "      child 0, unit: string\n",
       "      child 1, value: double\n",
       "      child 2, dimentionality: int64\n",
       "----\n",
       "id: [[\"078c02969df534dd252ead140ff1e2e2\",\"5daf53900ecea17db9d855cde97819de\",\"2f0ee547ae16a9e3ca19e7ba1d1f14e9\",\"c74918fa58c77ef27a96e3badd8e7566\",\"6c234fb210cc667034e1161cba15d8c5\",\"759d9dd6bc1ac62995bd69db5b626bfd\",\"d75a82375ca598bd148cd5061006054c\",\"f3d5db1b08f5fb394ff73834238e9e69\",\"acc54e85b1677734e5085a34e4b4b0c7\",\"845b7af056e19a8eb729d907e43a9b42\"]]\n",
       "product_des: [[    -- is_valid: all not null\n",
       "    -- child 0 type: string\n",
       "[\"origin\"]\n",
       "    -- child 1 type: double\n",
       "[5]\n",
       "    -- child 2 type: int64\n",
       "[1],    -- is_valid: all not null\n",
       "    -- child 0 type: string\n",
       "[\"inches\",\"origin\"]\n",
       "    -- child 1 type: double\n",
       "[140,5]\n",
       "    -- child 2 type: int64\n",
       "[3,1],...,    -- is_valid: all not null\n",
       "    -- child 0 type: string\n",
       "[\"lb\",\"origin\"]\n",
       "    -- child 1 type: double\n",
       "[7.7,5]\n",
       "    -- child 2 type: int64\n",
       "[1,1],    -- is_valid: all not null\n",
       "    -- child 0 type: string\n",
       "[\"inches\",\"pounds\",\"origin\",\"quantity\"]\n",
       "    -- child 1 type: double\n",
       "[251.32952999999998,1.38,5,6]\n",
       "    -- child 2 type: int64\n",
       "[3,1,1,1]]]"
      ]
     },
     "execution_count": 38,
     "metadata": {},
     "output_type": "execute_result"
    }
   ],
   "source": [
    "table"
   ]
  },
  {
   "cell_type": "code",
   "execution_count": 48,
   "metadata": {},
   "outputs": [],
   "source": [
    "import pyarrow.compute as pc\n",
    "target_id='5daf53900ecea17db9d855cde97819de'\n",
    "filtered_table = table.filter(pc.equal(table['id'], target_id))"
   ]
  },
  {
   "cell_type": "code",
   "execution_count": 49,
   "metadata": {},
   "outputs": [],
   "source": [
    "filtered_product_des_column = filtered_table['product_des']"
   ]
  },
  {
   "cell_type": "code",
   "execution_count": 50,
   "metadata": {},
   "outputs": [],
   "source": [
    "filtered_id_column = filtered_table['id']\n",
    "filtered_product_des_column = filtered_table['product_des']"
   ]
  },
  {
   "cell_type": "code",
   "execution_count": 51,
   "metadata": {},
   "outputs": [],
   "source": [
    "filtered_id_values = filtered_id_column.to_pandas().tolist()\n",
    "filtered_product_des_values = filtered_product_des_column.to_pandas().tolist()"
   ]
  },
  {
   "cell_type": "code",
   "execution_count": 52,
   "metadata": {},
   "outputs": [
    {
     "name": "stdout",
     "output_type": "stream",
     "text": [
      "['5daf53900ecea17db9d855cde97819de']\n",
      "[array([{'unit': 'inches', 'value': 140.0, 'dimentionality': 3},\n",
      "       {'unit': 'origin', 'value': 5.0, 'dimentionality': 1}],\n",
      "      dtype=object)]\n"
     ]
    }
   ],
   "source": [
    "print(filtered_id_values)\n",
    "print(filtered_product_des_values)"
   ]
  },
  {
   "cell_type": "code",
   "execution_count": null,
   "metadata": {},
   "outputs": [],
   "source": []
  }
 ],
 "metadata": {
  "kernelspec": {
   "display_name": "Python 3 (ipykernel)",
   "language": "python",
   "name": "python3"
  },
  "language_info": {
   "codemirror_mode": {
    "name": "ipython",
    "version": 3
   },
   "file_extension": ".py",
   "mimetype": "text/x-python",
   "name": "python",
   "nbconvert_exporter": "python",
   "pygments_lexer": "ipython3",
   "version": "3.11.2"
  }
 },
 "nbformat": 4,
 "nbformat_minor": 2
}
